{
 "cells": [
  {
   "cell_type": "code",
   "execution_count": 1,
   "metadata": {},
   "outputs": [],
   "source": [
    "import matplotlib.pyplot as plt\n",
    "from mpl_toolkits.mplot3d import Axes3D\n",
    "from matplotlib.animation import FuncAnimation\n",
    "import numpy as np\n",
    "plt.style.use('chartStyle.mplstyle')"
   ]
  },
  {
   "cell_type": "code",
   "execution_count": null,
   "metadata": {},
   "outputs": [],
   "source": [
    "fig, ax = plt.subplots()\n",
    "size = 100\n",
    "x = np.arange(size)\n",
    "y = 2 * x\n",
    "epsilon = np.random.gumbel(loc=-1, scale=10, size=size)\n",
    "f = y + epsilon\n",
    "ax.plot(x, f, label=rf'$y=Xw^*+\\epsilon$')\n",
    "ax.plot(x, y, label=r'$Xw^*$')\n",
    "ax.set_xlabel(r'$X$')\n",
    "ax.legend()\n",
    "fig.tight_layout()\n",
    "fig.savefig('exampleData.png', dpi=400)"
   ]
  },
  {
   "cell_type": "code",
   "execution_count": null,
   "metadata": {},
   "outputs": [],
   "source": [
    "plt.rc('text', usetex=True)\n",
    "plt.rc('text.latex', preamble=r'\\usepackage{amsmath}')\n",
    "x = np.linspace(-5, 5, 100)\n",
    "y = np.linspace(-5, 5, 100)\n",
    "X, Y = np.meshgrid(x, y)\n",
    "L = (X**2 + Y**2)\n",
    "fig = plt.figure()\n",
    "ax = fig.add_subplot(111, projection='3d')\n",
    "surf = ax.plot_surface(X, Y, L, cmap='viridis')\n",
    "ax.text(-2.7, -5.8, 0, s=r'$\\mathcal{L}(w)=\\lVert y-Xw\\rVert_2^2$', bbox=dict(boxstyle='round', facecolor='wheat', alpha=0.5))\n",
    "ax.grid(False)\n",
    "ax.set_xticklabels([])\n",
    "ax.set_yticklabels([])\n",
    "ax.set_zticklabels([])\n",
    "fig.tight_layout()\n",
    "fig.savefig('lossFunction.png', dpi=400, bbox_inches='tight')\n",
    "plt.show()"
   ]
  },
  {
   "cell_type": "code",
   "execution_count": null,
   "metadata": {},
   "outputs": [],
   "source": [
    "# Function to generate autoregressive sequence\n",
    "def autoregressive_sequence(alpha, num_steps):\n",
    "    a = [1.0]  # Initial value\n",
    "    for _ in range(1, num_steps):\n",
    "        a.append(alpha * a[-1])\n",
    "    return a\n",
    "\n",
    "# Parameters\n",
    "alphas = [-1.1, -0.8, 0.8, 1.1] \n",
    "num_steps = 25  # Number of steps in the sequence\n",
    "\n",
    "# Create a figure and axis\n",
    "fig, ax = plt.subplots(figsize=(6.5, 5))\n",
    "\n",
    "# Initialize an empty plot\n",
    "line, = ax.plot([], marker='o', linestyle='-')\n",
    "\n",
    "# Function to update the plot for each frame\n",
    "def update(frame):\n",
    "    ax.clear()\n",
    "    ax.set_xlabel(rf'$t={frame+1}$')\n",
    "    ax.set_ylabel(rf'$a_t$')\n",
    "    for alpha in alphas:\n",
    "        sequence = autoregressive_sequence(alpha, frame)\n",
    "        ax.plot(sequence, marker='o', linestyle='-', label=rf'$\\alpha = {alpha}$')\n",
    "    ax.legend(loc='upper left', facecolor='wheat')\n",
    "\n",
    "# Create the animation\n",
    "ani = FuncAnimation(fig, update, frames=num_steps, repeat=False)\n",
    "\n",
    "# Save the animation as a GIF\n",
    "ani.save('autoregressive_overlay.gif', writer='pillow', fps=0.9)\n",
    "\n",
    "# Show the plot\n",
    "plt.show()"
   ]
  }
 ],
 "metadata": {
  "kernelspec": {
   "display_name": "Python 3.11.3 64-bit",
   "language": "python",
   "name": "python3"
  },
  "language_info": {
   "codemirror_mode": {
    "name": "ipython",
    "version": 3
   },
   "file_extension": ".py",
   "mimetype": "text/x-python",
   "name": "python",
   "nbconvert_exporter": "python",
   "pygments_lexer": "ipython3",
   "version": "3.11.3"
  },
  "orig_nbformat": 4,
  "vscode": {
   "interpreter": {
    "hash": "aee8b7b246df8f9039afb4144a1f6fd8d2ca17a180786b69acc140d282b71a49"
   }
  }
 },
 "nbformat": 4,
 "nbformat_minor": 2
}
